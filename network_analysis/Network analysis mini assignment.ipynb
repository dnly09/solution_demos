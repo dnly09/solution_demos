{
 "cells": [
  {
   "cell_type": "markdown",
   "metadata": {},
   "source": [
    "#### Network Analysis on \"online retail.csv\"."
   ]
  },
  {
   "cell_type": "code",
   "execution_count": 1,
   "metadata": {},
   "outputs": [],
   "source": [
    "import pandas as pd\n",
    "import networkx as nx\n",
    "from itertools import combinations\n",
    "\n",
    "###read the csv\n",
    "x = pd.read_csv('Online Retail.csv')\n",
    "\n",
    "### collapse to a series of lists\n",
    "data = x.groupby('InvoiceNo').apply(lambda x: list(x['StockCode']))\n",
    "### we can ignore 1 length baskets - no connections\n",
    "data = data[data.apply(lambda x:len(x) > 1)]\n",
    "\n",
    "#holding dict\n",
    "mydict = {}\n",
    "\n",
    "for i in range(len(data)):\n",
    "    #2 combinations of baskets\n",
    "    for j,k in combinations(data[i],2):\n",
    "        #setdefauly, and append a 1 for each time it is found\n",
    "        mydict.setdefault((j,k),[]).append(1)\n",
    "\n",
    "#make a graph\n",
    "G = nx.Graph()\n",
    "#add the edges, if weight is greater than 20 - ie 20 transactions\n",
    "_ = [G.add_edge(i[0], i[1], weight = len(j)) for i,j in mydict.items() if len(j) > 20]\n"
   ]
  },
  {
   "cell_type": "code",
   "execution_count": 2,
   "metadata": {},
   "outputs": [
    {
     "data": {
      "text/html": [
       "<div>\n",
       "<style scoped>\n",
       "    .dataframe tbody tr th:only-of-type {\n",
       "        vertical-align: middle;\n",
       "    }\n",
       "\n",
       "    .dataframe tbody tr th {\n",
       "        vertical-align: top;\n",
       "    }\n",
       "\n",
       "    .dataframe thead th {\n",
       "        text-align: right;\n",
       "    }\n",
       "</style>\n",
       "<table border=\"1\" class=\"dataframe\">\n",
       "  <thead>\n",
       "    <tr style=\"text-align: right;\">\n",
       "      <th></th>\n",
       "      <th>InvoiceNo</th>\n",
       "      <th>StockCode</th>\n",
       "      <th>Description</th>\n",
       "      <th>Quantity</th>\n",
       "      <th>InvoiceDate</th>\n",
       "      <th>UnitPrice</th>\n",
       "      <th>CustomerID</th>\n",
       "      <th>Country</th>\n",
       "    </tr>\n",
       "  </thead>\n",
       "  <tbody>\n",
       "    <tr>\n",
       "      <th>0</th>\n",
       "      <td>536365</td>\n",
       "      <td>85123A</td>\n",
       "      <td>WHITE HANGING HEART T-LIGHT HOLDER</td>\n",
       "      <td>6</td>\n",
       "      <td>2010-12-01 8:26</td>\n",
       "      <td>2.55</td>\n",
       "      <td>17850.0</td>\n",
       "      <td>United Kingdom</td>\n",
       "    </tr>\n",
       "    <tr>\n",
       "      <th>1</th>\n",
       "      <td>536365</td>\n",
       "      <td>71053</td>\n",
       "      <td>WHITE METAL LANTERN</td>\n",
       "      <td>6</td>\n",
       "      <td>2010-12-01 8:26</td>\n",
       "      <td>3.39</td>\n",
       "      <td>17850.0</td>\n",
       "      <td>United Kingdom</td>\n",
       "    </tr>\n",
       "    <tr>\n",
       "      <th>2</th>\n",
       "      <td>536365</td>\n",
       "      <td>84406B</td>\n",
       "      <td>CREAM CUPID HEARTS COAT HANGER</td>\n",
       "      <td>8</td>\n",
       "      <td>2010-12-01 8:26</td>\n",
       "      <td>2.75</td>\n",
       "      <td>17850.0</td>\n",
       "      <td>United Kingdom</td>\n",
       "    </tr>\n",
       "    <tr>\n",
       "      <th>3</th>\n",
       "      <td>536365</td>\n",
       "      <td>84029G</td>\n",
       "      <td>KNITTED UNION FLAG HOT WATER BOTTLE</td>\n",
       "      <td>6</td>\n",
       "      <td>2010-12-01 8:26</td>\n",
       "      <td>3.39</td>\n",
       "      <td>17850.0</td>\n",
       "      <td>United Kingdom</td>\n",
       "    </tr>\n",
       "    <tr>\n",
       "      <th>4</th>\n",
       "      <td>536365</td>\n",
       "      <td>84029E</td>\n",
       "      <td>RED WOOLLY HOTTIE WHITE HEART.</td>\n",
       "      <td>6</td>\n",
       "      <td>2010-12-01 8:26</td>\n",
       "      <td>3.39</td>\n",
       "      <td>17850.0</td>\n",
       "      <td>United Kingdom</td>\n",
       "    </tr>\n",
       "  </tbody>\n",
       "</table>\n",
       "</div>"
      ],
      "text/plain": [
       "  InvoiceNo StockCode                          Description  Quantity  \\\n",
       "0    536365    85123A   WHITE HANGING HEART T-LIGHT HOLDER         6   \n",
       "1    536365     71053                  WHITE METAL LANTERN         6   \n",
       "2    536365    84406B       CREAM CUPID HEARTS COAT HANGER         8   \n",
       "3    536365    84029G  KNITTED UNION FLAG HOT WATER BOTTLE         6   \n",
       "4    536365    84029E       RED WOOLLY HOTTIE WHITE HEART.         6   \n",
       "\n",
       "       InvoiceDate  UnitPrice  CustomerID         Country  \n",
       "0  2010-12-01 8:26       2.55     17850.0  United Kingdom  \n",
       "1  2010-12-01 8:26       3.39     17850.0  United Kingdom  \n",
       "2  2010-12-01 8:26       2.75     17850.0  United Kingdom  \n",
       "3  2010-12-01 8:26       3.39     17850.0  United Kingdom  \n",
       "4  2010-12-01 8:26       3.39     17850.0  United Kingdom  "
      ]
     },
     "execution_count": 2,
     "metadata": {},
     "output_type": "execute_result"
    }
   ],
   "source": [
    "x.head()"
   ]
  },
  {
   "cell_type": "code",
   "execution_count": 3,
   "metadata": {},
   "outputs": [],
   "source": [
    "nx.draw(G, with_labels=True)"
   ]
  },
  {
   "cell_type": "markdown",
   "metadata": {},
   "source": [
    "#### What are the ten most important items by pagerank?\n"
   ]
  },
  {
   "cell_type": "code",
   "execution_count": 4,
   "metadata": {},
   "outputs": [
    {
     "name": "stdout",
     "output_type": "stream",
     "text": [
      "0 DOTCOM POSTAGE\n",
      "1 WHITE HANGING HEART T-LIGHT HOLDER\n",
      "2 JUMBO BAG RED RETROSPOT\n",
      "3 REGENCY CAKESTAND 3 TIER\n",
      "4 SMALL POPCORN HOLDER\n",
      "5 JAM MAKING SET PRINTED\n",
      "6 PACK OF 72 RETROSPOT CAKE CASES\n",
      "7 GREEN REGENCY TEACUP AND SAUCER\n",
      "8 SUKI  SHOULDER BAG\n",
      "9 NATURAL SLATE HEART CHALKBOARD \n"
     ]
    }
   ],
   "source": [
    "dict_G = nx.pagerank(G)\n",
    "\n",
    "# Organizing by pagerank value and then sort by descending\n",
    "sorted_G = sorted(dict_G.items(), key=lambda kv: kv[1], reverse=True)\n",
    "\n",
    "for i in range(10):\n",
    "    print(i, x['Description'][x['StockCode']==sorted_G[i][0]].iloc[0])"
   ]
  },
  {
   "cell_type": "markdown",
   "metadata": {},
   "source": [
    "#### Find the network's connectedness and how many subclusters there are (if any)."
   ]
  },
  {
   "cell_type": "code",
   "execution_count": 5,
   "metadata": {},
   "outputs": [
    {
     "data": {
      "text/plain": [
       "12"
      ]
     },
     "execution_count": 5,
     "metadata": {},
     "output_type": "execute_result"
    }
   ],
   "source": [
    "len(list(nx.connected_component_subgraphs(G)))"
   ]
  },
  {
   "cell_type": "markdown",
   "metadata": {},
   "source": [
    "#### Find cliques of items where the size is at least 5"
   ]
  },
  {
   "cell_type": "code",
   "execution_count": 6,
   "metadata": {},
   "outputs": [
    {
     "data": {
      "text/plain": [
       "[['22093', '85123A', '21034', '22720', '23203', '84596B', '22197'],\n",
       " ['22093',\n",
       "  '85123A',\n",
       "  '21034',\n",
       "  '22720',\n",
       "  '22094',\n",
       "  '22091',\n",
       "  '22197',\n",
       "  '22098',\n",
       "  '84596B'],\n",
       " ['22093', '85123A', '21034', '22720', '22094', '22091', '22197', '22099'],\n",
       " ['22093', '85123A', '21034', '22720', '22094', '22091', '22097', '22098'],\n",
       " ['22093', '85123A', '22096', '22098', '22094', '22197']]"
      ]
     },
     "execution_count": 6,
     "metadata": {},
     "output_type": "execute_result"
    }
   ],
   "source": [
    "z = nx.find_cliques(G)\n",
    "\n",
    "z_list = []\n",
    "while len(z_list) < 5:\n",
    "    z_i = next(z)\n",
    "    if len(z_i) >= 5:\n",
    "        z_list.append(z_i)\n",
    "\n",
    "z_list"
   ]
  },
  {
   "cell_type": "code",
   "execution_count": 7,
   "metadata": {},
   "outputs": [
    {
     "name": "stdout",
     "output_type": "stream",
     "text": [
      "Cluster 0 Item 0 MOTORING TISSUE BOX\n",
      "Cluster 0 Item 1 WHITE HANGING HEART T-LIGHT HOLDER\n",
      "Cluster 0 Item 2 REX CASH+CARRY JUMBO SHOPPER\n",
      "Cluster 0 Item 3 SET OF 3 CAKE TINS PANTRY DESIGN \n",
      "Cluster 0 Item 4 mailout\n",
      "Cluster 0 Item 5 SMALL DOLLY MIX DESIGN ORANGE BOWL\n",
      "Cluster 0 Item 6 SMALL POPCORN HOLDER\n",
      "\n",
      "Cluster 1 Item 0 MOTORING TISSUE BOX\n",
      "Cluster 1 Item 1 WHITE HANGING HEART T-LIGHT HOLDER\n",
      "Cluster 1 Item 2 REX CASH+CARRY JUMBO SHOPPER\n",
      "Cluster 1 Item 3 SET OF 3 CAKE TINS PANTRY DESIGN \n",
      "Cluster 1 Item 4 RED RETROSPOT TISSUE BOX\n",
      "Cluster 1 Item 5 EMPIRE TISSUE BOX\n",
      "Cluster 1 Item 6 SMALL POPCORN HOLDER\n",
      "Cluster 1 Item 7 BOUDOIR SQUARE TISSUE BOX\n",
      "Cluster 1 Item 8 SMALL DOLLY MIX DESIGN ORANGE BOWL\n",
      "\n",
      "Cluster 2 Item 0 MOTORING TISSUE BOX\n",
      "Cluster 2 Item 1 WHITE HANGING HEART T-LIGHT HOLDER\n",
      "Cluster 2 Item 2 REX CASH+CARRY JUMBO SHOPPER\n",
      "Cluster 2 Item 3 SET OF 3 CAKE TINS PANTRY DESIGN \n",
      "Cluster 2 Item 4 RED RETROSPOT TISSUE BOX\n",
      "Cluster 2 Item 5 EMPIRE TISSUE BOX\n",
      "Cluster 2 Item 6 SMALL POPCORN HOLDER\n",
      "Cluster 2 Item 7 CARAVAN SQUARE TISSUE BOX\n",
      "\n",
      "Cluster 3 Item 0 MOTORING TISSUE BOX\n",
      "Cluster 3 Item 1 WHITE HANGING HEART T-LIGHT HOLDER\n",
      "Cluster 3 Item 2 REX CASH+CARRY JUMBO SHOPPER\n",
      "Cluster 3 Item 3 SET OF 3 CAKE TINS PANTRY DESIGN \n",
      "Cluster 3 Item 4 RED RETROSPOT TISSUE BOX\n",
      "Cluster 3 Item 5 EMPIRE TISSUE BOX\n",
      "Cluster 3 Item 6 SWALLOW SQUARE TISSUE BOX\n",
      "Cluster 3 Item 7 BOUDOIR SQUARE TISSUE BOX\n",
      "\n",
      "Cluster 4 Item 0 MOTORING TISSUE BOX\n",
      "Cluster 4 Item 1 WHITE HANGING HEART T-LIGHT HOLDER\n",
      "Cluster 4 Item 2 PINK PAISLEY SQUARE TISSUE BOX \n",
      "Cluster 4 Item 3 BOUDOIR SQUARE TISSUE BOX\n",
      "Cluster 4 Item 4 RED RETROSPOT TISSUE BOX\n",
      "Cluster 4 Item 5 SMALL POPCORN HOLDER\n",
      "\n"
     ]
    }
   ],
   "source": [
    "for j in range(len(z_list)):\n",
    "    for i in range(len(z_list[j])):\n",
    "        print(f'Cluster {j}', f'Item {i}', x['Description'][x['StockCode']==z_list[j][i]].iloc[0])\n",
    "    print('')"
   ]
  },
  {
   "cell_type": "markdown",
   "metadata": {},
   "source": [
    "#### Create a recommender function which used edge weights to suggest a random item, given an input item and network."
   ]
  },
  {
   "cell_type": "code",
   "execution_count": 67,
   "metadata": {},
   "outputs": [],
   "source": [
    "def recommender(item, network):\n",
    "    neighbor_list = list(G.neighbors(item))\n",
    "    \n",
    "    # Identify item from stock id\n",
    "    item_desc = x['Description'][x['StockCode']==item].iloc[0]\n",
    "    \n",
    "    edge_data = []\n",
    "    \n",
    "    # Finding edge weights for all the neighbors around the item\n",
    "    for neighbor in neighbor_list:\n",
    "        edge_data.append([int(*list(G.get_edge_data(item, neighbor).values())), neighbor])\n",
    "    \n",
    "    chosen_item = sorted(edge_data, reverse=True)[0][1]\n",
    "    \n",
    "    # Identify chosen item from stock id\n",
    "    chosen_item_desc = x['Description'][x['StockCode']==chosen_item].iloc[0]\n",
    "    \n",
    "    print(f'Based on the input item, {item_desc}, ' + f'the suggested item is: {chosen_item_desc}')\n"
   ]
  },
  {
   "cell_type": "code",
   "execution_count": 71,
   "metadata": {},
   "outputs": [
    {
     "name": "stdout",
     "output_type": "stream",
     "text": [
      "Based on the input item, SMALL POPCORN HOLDER, the suggested item is: PACK OF 72 RETROSPOT CAKE CASES\n"
     ]
    }
   ],
   "source": [
    "recommender('22197', G)"
   ]
  },
  {
   "cell_type": "code",
   "execution_count": null,
   "metadata": {},
   "outputs": [],
   "source": []
  }
 ],
 "metadata": {
  "kernelspec": {
   "display_name": "Python 3",
   "language": "python",
   "name": "python3"
  },
  "language_info": {
   "codemirror_mode": {
    "name": "ipython",
    "version": 3
   },
   "file_extension": ".py",
   "mimetype": "text/x-python",
   "name": "python",
   "nbconvert_exporter": "python",
   "pygments_lexer": "ipython3",
   "version": "3.7.0"
  }
 },
 "nbformat": 4,
 "nbformat_minor": 2
}
